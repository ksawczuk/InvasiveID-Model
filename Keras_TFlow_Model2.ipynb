{
 "cells": [
  {
   "cell_type": "markdown",
   "metadata": {},
   "source": [
    "## Model 2:\n",
    "This model is an implementation of a simple CNN 3 class image classifier.\n",
    " * It employs BatchNormalization after the first activated convolutional layer.\n",
    " * It has 3 convolutional layers\n",
    " * 3 hidden layers\n",
    " * 3 categorical outputs with Softmax activation\n"
   ]
  },
  {
   "cell_type": "markdown",
   "metadata": {},
   "source": [
    "### Environment setup"
   ]
  },
  {
   "cell_type": "code",
   "execution_count": 14,
   "metadata": {},
   "outputs": [],
   "source": [
    "# some standard packages\n",
    "import numpy as np\n",
    "import pandas as pd\n",
    "import pickle\n",
    "import matplotlib.pyplot as plt\n",
    "%matplotlib inline\n",
    "import seaborn as sns\n",
    "import os\n",
    "\n",
    "\n",
    "# modelling packages\n",
    "import tensorflow as tf\n",
    "from tensorflow.keras.models import Sequential\n",
    "from tensorflow.keras.layers import Dense, Dropout, Activation, Flatten \n",
    "from tensorflow.keras.layers import Conv2D, MaxPooling2D, BatchNormalization\n",
    "from tensorflow.keras.optimizers import RMSprop\n",
    "from tensorflow.keras.callbacks import EarlyStopping, ReduceLROnPlateau \n",
    "from tensorflow.keras.preprocessing.image import ImageDataGenerator\n",
    "from tensorflow.keras.models import model_from_json\n",
    "from tensorflow.keras.models import load_model\n",
    "from tensorflow.keras.optimizers import Adam\n",
    "\n",
    "\n",
    "# Model Evaluation\n",
    "from sklearn.metrics import classification_report, confusion_matrix\n"
   ]
  },
  {
   "cell_type": "markdown",
   "metadata": {},
   "source": [
    "### Data Setup"
   ]
  },
  {
   "cell_type": "code",
   "execution_count": 15,
   "metadata": {},
   "outputs": [],
   "source": [
    "categories = ['hogweed', 'blueweed', 'gorse']"
   ]
  },
  {
   "cell_type": "code",
   "execution_count": 16,
   "metadata": {},
   "outputs": [],
   "source": [
    "# Instantiate the ImageDataGenerator for training and validation data.\n",
    "train_datagen = ImageDataGenerator(\n",
    "    rotation_range=40,\n",
    "    width_shift_range=0.2,\n",
    "    height_shift_range=0.2,\n",
    "    rescale=1./255,\n",
    "    fill_mode='nearest',\n",
    "    validation_split=0.2,\n",
    ")"
   ]
  },
  {
   "cell_type": "code",
   "execution_count": 17,
   "metadata": {},
   "outputs": [],
   "source": [
    "#Instantiaate the ImageDataGenerator for the test data.\n",
    "# The only thing I want to do to the test data is rescaling each pixel value to be a float between 0 and 1 \n",
    "# instead of an integer between 0 and 255.\n",
    "\n",
    "test_datagen = ImageDataGenerator(rescale = 1./255)"
   ]
  },
  {
   "cell_type": "code",
   "execution_count": 18,
   "metadata": {},
   "outputs": [],
   "source": [
    "# Batch size of 32 seems popular with smallish data sets.\n",
    "batch_size = 32"
   ]
  },
  {
   "cell_type": "code",
   "execution_count": null,
   "metadata": {},
   "outputs": [],
   "source": []
  },
  {
   "cell_type": "code",
   "execution_count": 19,
   "metadata": {},
   "outputs": [
    {
     "name": "stdout",
     "output_type": "stream",
     "text": [
      "Found 4862 images belonging to 3 classes.\n"
     ]
    }
   ],
   "source": [
    "# Generate the training data batches.\n",
    "train_generator = train_datagen.flow_from_directory(\n",
    "                                                    'data/final_BC_images/train',\n",
    "                                                    target_size=(32, 32),\n",
    "                                                    color_mode='rgb',\n",
    "                                                    batch_size=batch_size,\n",
    "                                                    class_mode='categorical',\n",
    "                                                    shuffle=True,\n",
    "                                                    subset='training')"
   ]
  },
  {
   "cell_type": "code",
   "execution_count": 20,
   "metadata": {},
   "outputs": [
    {
     "name": "stdout",
     "output_type": "stream",
     "text": [
      "Found 1215 images belonging to 3 classes.\n"
     ]
    }
   ],
   "source": [
    "# Generate the validation data batches.\n",
    "validation_generator = train_datagen.flow_from_directory(\n",
    "                                                        'data/final_BC_images/train',\n",
    "                                                        target_size=(32, 32),\n",
    "                                                        color_mode='rgb',\n",
    "                                                        batch_size=batch_size,\n",
    "                                                        class_mode='categorical',\n",
    "                                                        shuffle=False,\n",
    "                                                        subset='validation'\n",
    "                                                        )"
   ]
  },
  {
   "cell_type": "code",
   "execution_count": 21,
   "metadata": {},
   "outputs": [
    {
     "name": "stdout",
     "output_type": "stream",
     "text": [
      "Found 1632 images belonging to 3 classes.\n"
     ]
    }
   ],
   "source": [
    "# Generate the test data batches.\n",
    "# Note the number of images in the test directory should be divisible by \"batch_size\" \n",
    "# or the metrics functions in Results section will throw errors.\n",
    "test_generator = test_datagen.flow_from_directory(\n",
    "                                                  'data/final_BC_images/test',\n",
    "                                                  target_size=(32, 32),\n",
    "                                                  color_mode='rgb',\n",
    "                                                  batch_size=batch_size,\n",
    "                                                  class_mode='categorical',\n",
    "                                                  shuffle=False)"
   ]
  },
  {
   "cell_type": "code",
   "execution_count": 22,
   "metadata": {},
   "outputs": [
    {
     "name": "stdout",
     "output_type": "stream",
     "text": [
      "Training step size = 151 \n",
      "Validation step size = 37 \n",
      "Test step size = 51\n"
     ]
    }
   ],
   "source": [
    "# Saving the number of stepsizes for the training, validation and test sets \n",
    "train_stepsize = train_generator.samples//train_generator.batch_size \n",
    "\n",
    "valid_stepsize = validation_generator.samples//validation_generator.batch_size \n",
    "\n",
    "test_stepsize = test_generator.samples//test_generator.batch_size \n",
    "\n",
    "# Sanity check \n",
    "print(f'Training step size = {train_stepsize} \\nValidation step size = {valid_stepsize} \\nTest step size = {test_stepsize}')"
   ]
  },
  {
   "cell_type": "markdown",
   "metadata": {},
   "source": [
    "### Model Architecture\n",
    "* Utillizes the simple sequential API.\n"
   ]
  },
  {
   "cell_type": "code",
   "execution_count": 23,
   "metadata": {},
   "outputs": [],
   "source": [
    "# Building the Model\n",
    "model = Sequential()\n",
    "\n",
    "# 3 convolutional layers\n",
    "model.add(Conv2D(32, (3,3), input_shape = (32,32,3)))\n",
    "model.add(Activation('relu'))\n",
    "model.add(BatchNormalization())\n",
    "model.add(MaxPooling2D(pool_size=(2,2)))\n",
    "\n",
    "model.add(Conv2D(128, (3, 3)))\n",
    "model.add(Activation('relu'))\n",
    "model.add(MaxPooling2D(pool_size=(2, 2)))\n",
    "\n",
    "model.add(Conv2D(512, (3,3)))\n",
    "model.add(Activation('relu'))\n",
    "model.add(MaxPooling2D(pool_size=(2,2)))\n",
    "model.add(Dropout(0.25))\n",
    "\n",
    "# 3 hidden layers\n",
    "model.add(Flatten())\n",
    "model.add(Dense(256))\n",
    "model.add(Activation('relu'))\n",
    "\n",
    "model.add(Dense(256))\n",
    "model.add(Activation('relu'))\n",
    "model.add(Dropout(0.25))\n",
    "\n",
    "model.add(Dense(128))\n",
    "model.add(Activation('relu'))\n",
    "\n",
    "# # The output layer with 9 neurons for 9 classes\n",
    "model.add(Dense(3))\n",
    "model.add(Activation('softmax'))\n"
   ]
  },
  {
   "cell_type": "code",
   "execution_count": 24,
   "metadata": {},
   "outputs": [],
   "source": [
    "# Initiate early stop based on validation accuracy\n",
    "ES = EarlyStopping(monitor='val_acc', patience=5, mode='auto', min_delta=0.0001, verbose=1)"
   ]
  },
  {
   "cell_type": "code",
   "execution_count": 25,
   "metadata": {},
   "outputs": [
    {
     "name": "stdout",
     "output_type": "stream",
     "text": [
      "Model: \"sequential_1\"\n",
      "_________________________________________________________________\n",
      "Layer (type)                 Output Shape              Param #   \n",
      "=================================================================\n",
      "conv2d_3 (Conv2D)            (None, 30, 30, 32)        896       \n",
      "_________________________________________________________________\n",
      "activation_7 (Activation)    (None, 30, 30, 32)        0         \n",
      "_________________________________________________________________\n",
      "batch_normalization_1 (Batch (None, 30, 30, 32)        128       \n",
      "_________________________________________________________________\n",
      "max_pooling2d_3 (MaxPooling2 (None, 15, 15, 32)        0         \n",
      "_________________________________________________________________\n",
      "conv2d_4 (Conv2D)            (None, 13, 13, 128)       36992     \n",
      "_________________________________________________________________\n",
      "activation_8 (Activation)    (None, 13, 13, 128)       0         \n",
      "_________________________________________________________________\n",
      "max_pooling2d_4 (MaxPooling2 (None, 6, 6, 128)         0         \n",
      "_________________________________________________________________\n",
      "conv2d_5 (Conv2D)            (None, 4, 4, 512)         590336    \n",
      "_________________________________________________________________\n",
      "activation_9 (Activation)    (None, 4, 4, 512)         0         \n",
      "_________________________________________________________________\n",
      "max_pooling2d_5 (MaxPooling2 (None, 2, 2, 512)         0         \n",
      "_________________________________________________________________\n",
      "dropout_2 (Dropout)          (None, 2, 2, 512)         0         \n",
      "_________________________________________________________________\n",
      "flatten_1 (Flatten)          (None, 2048)              0         \n",
      "_________________________________________________________________\n",
      "dense_4 (Dense)              (None, 256)               524544    \n",
      "_________________________________________________________________\n",
      "activation_10 (Activation)   (None, 256)               0         \n",
      "_________________________________________________________________\n",
      "dense_5 (Dense)              (None, 256)               65792     \n",
      "_________________________________________________________________\n",
      "activation_11 (Activation)   (None, 256)               0         \n",
      "_________________________________________________________________\n",
      "dropout_3 (Dropout)          (None, 256)               0         \n",
      "_________________________________________________________________\n",
      "dense_6 (Dense)              (None, 128)               32896     \n",
      "_________________________________________________________________\n",
      "activation_12 (Activation)   (None, 128)               0         \n",
      "_________________________________________________________________\n",
      "dense_7 (Dense)              (None, 3)                 387       \n",
      "_________________________________________________________________\n",
      "activation_13 (Activation)   (None, 3)                 0         \n",
      "=================================================================\n",
      "Total params: 1,251,971\n",
      "Trainable params: 1,251,907\n",
      "Non-trainable params: 64\n",
      "_________________________________________________________________\n"
     ]
    }
   ],
   "source": [
    "# Istantiating Adam optimizer with a learning rate of 0.0001 and saving to variable 'optim'\n",
    "optim = Adam(lr=0.0001)\n",
    "\n",
    "# Compiling the CNN model \n",
    "model.compile(optimizer=optim, loss='categorical_crossentropy', metrics=['acc'])\n",
    "\n",
    "# Summary \n",
    "model.summary()"
   ]
  },
  {
   "cell_type": "markdown",
   "metadata": {},
   "source": [
    "### Model Training"
   ]
  },
  {
   "cell_type": "code",
   "execution_count": 26,
   "metadata": {},
   "outputs": [
    {
     "name": "stdout",
     "output_type": "stream",
     "text": [
      "Epoch 1/50\n",
      "151/151 [==============================] - 58s 385ms/step - loss: 0.7575 - acc: 0.6594 - val_loss: 0.9383 - val_acc: 0.7559\n",
      "Epoch 2/50\n",
      "151/151 [==============================] - 57s 379ms/step - loss: 0.4956 - acc: 0.8110 - val_loss: 0.6680 - val_acc: 0.7998\n",
      "Epoch 3/50\n",
      "151/151 [==============================] - 57s 377ms/step - loss: 0.4199 - acc: 0.8354 - val_loss: 0.4803 - val_acc: 0.8311\n",
      "Epoch 4/50\n",
      "151/151 [==============================] - 59s 389ms/step - loss: 0.3934 - acc: 0.8520 - val_loss: 0.3994 - val_acc: 0.8488\n",
      "Epoch 5/50\n",
      "151/151 [==============================] - 59s 388ms/step - loss: 0.3656 - acc: 0.8652 - val_loss: 0.3705 - val_acc: 0.8733\n",
      "Epoch 6/50\n",
      "151/151 [==============================] - 58s 384ms/step - loss: 0.3496 - acc: 0.8725 - val_loss: 0.3525 - val_acc: 0.8733\n",
      "Epoch 7/50\n",
      "151/151 [==============================] - 60s 398ms/step - loss: 0.3429 - acc: 0.8752 - val_loss: 0.3540 - val_acc: 0.8708\n",
      "Epoch 8/50\n",
      "151/151 [==============================] - 60s 395ms/step - loss: 0.3421 - acc: 0.8725 - val_loss: 0.3298 - val_acc: 0.8733\n",
      "Epoch 9/50\n",
      "151/151 [==============================] - 60s 400ms/step - loss: 0.3306 - acc: 0.8766 - val_loss: 0.3121 - val_acc: 0.8801\n",
      "Epoch 10/50\n",
      "151/151 [==============================] - 61s 406ms/step - loss: 0.3083 - acc: 0.8905 - val_loss: 0.3343 - val_acc: 0.8716\n",
      "Epoch 11/50\n",
      "151/151 [==============================] - 61s 407ms/step - loss: 0.3132 - acc: 0.8805 - val_loss: 0.3333 - val_acc: 0.8758\n",
      "Epoch 12/50\n",
      "151/151 [==============================] - 61s 402ms/step - loss: 0.2937 - acc: 0.8971 - val_loss: 0.3206 - val_acc: 0.8758\n",
      "Epoch 13/50\n",
      "151/151 [==============================] - 60s 398ms/step - loss: 0.2895 - acc: 0.8901 - val_loss: 0.3192 - val_acc: 0.8894\n",
      "Epoch 14/50\n",
      "151/151 [==============================] - 61s 402ms/step - loss: 0.2865 - acc: 0.8950 - val_loss: 0.2997 - val_acc: 0.8809\n",
      "Epoch 15/50\n",
      "151/151 [==============================] - 61s 404ms/step - loss: 0.2954 - acc: 0.8905 - val_loss: 0.2886 - val_acc: 0.8978\n",
      "Epoch 16/50\n",
      "151/151 [==============================] - 63s 415ms/step - loss: 0.2807 - acc: 0.8986 - val_loss: 0.3054 - val_acc: 0.8885\n",
      "Epoch 17/50\n",
      "151/151 [==============================] - 62s 411ms/step - loss: 0.2750 - acc: 0.9019 - val_loss: 0.3039 - val_acc: 0.8851\n",
      "Epoch 18/50\n",
      "151/151 [==============================] - 60s 397ms/step - loss: 0.2879 - acc: 0.8923 - val_loss: 0.3395 - val_acc: 0.8775\n",
      "Epoch 19/50\n",
      "151/151 [==============================] - 61s 401ms/step - loss: 0.2800 - acc: 0.8979 - val_loss: 0.3255 - val_acc: 0.8708\n",
      "Epoch 20/50\n",
      "151/151 [==============================] - 61s 402ms/step - loss: 0.2631 - acc: 0.9012 - val_loss: 0.3189 - val_acc: 0.8784\n",
      "Epoch 00020: early stopping\n"
     ]
    }
   ],
   "source": [
    "# Fitting the model to the training data\n",
    "history = model.fit_generator(generator=train_generator,\n",
    "                                steps_per_epoch=train_stepsize,\n",
    "                                epochs=50,\n",
    "                                validation_data=validation_generator,\n",
    "                                validation_steps=valid_stepsize,\n",
    "                                callbacks=[ES])"
   ]
  },
  {
   "cell_type": "code",
   "execution_count": null,
   "metadata": {},
   "outputs": [],
   "source": []
  },
  {
   "cell_type": "markdown",
   "metadata": {},
   "source": [
    "### Observation from training this model\n",
    "The initial results looked promising for some epochs, but the validation loss and accuarcy were hopping around way too much. The model seems to be unstable when the learning rate was 0..001. When I run the training again with the learning rate set to 0.0001 the hopping around settled down quite a bit."
   ]
  },
  {
   "cell_type": "markdown",
   "metadata": {},
   "source": [
    "### Model Results"
   ]
  },
  {
   "cell_type": "code",
   "execution_count": 27,
   "metadata": {},
   "outputs": [
    {
     "name": "stdout",
     "output_type": "stream",
     "text": [
      "WARNING:tensorflow:From <ipython-input-27-2951856af5c6>:2: Model.predict_generator (from tensorflow.python.keras.engine.training) is deprecated and will be removed in a future version.\n",
      "Instructions for updating:\n",
      "Please use Model.predict, which supports generators.\n"
     ]
    }
   ],
   "source": [
    "# Getting bestmodel's predictions (as probabilities) on the test set \n",
    "test_probas = model.predict_generator(test_generator, steps=test_stepsize)\n",
    "\n",
    "# Setting the model's class prediction as the class that received the highest probability for each image\n",
    "test_predictions = test_probas.argmax(axis=1)"
   ]
  },
  {
   "cell_type": "code",
   "execution_count": null,
   "metadata": {},
   "outputs": [],
   "source": [
    "test_probas"
   ]
  },
  {
   "cell_type": "code",
   "execution_count": 28,
   "metadata": {},
   "outputs": [
    {
     "data": {
      "text/plain": [
       "1632"
      ]
     },
     "execution_count": 28,
     "metadata": {},
     "output_type": "execute_result"
    }
   ],
   "source": [
    "# Getting the true class labels for the test set\n",
    "test_true = test_generator.classes\n",
    "\n",
    "# Sanity check \n",
    "test_true"
   ]
  },
  {
   "cell_type": "code",
   "execution_count": 29,
   "metadata": {},
   "outputs": [
    {
     "data": {
      "text/plain": [
       "1632"
      ]
     },
     "execution_count": 29,
     "metadata": {},
     "output_type": "execute_result"
    }
   ],
   "source": [
    "test_predictions"
   ]
  },
  {
   "cell_type": "code",
   "execution_count": 30,
   "metadata": {},
   "outputs": [
    {
     "name": "stdout",
     "output_type": "stream",
     "text": [
      "Classification Report\n",
      " \n",
      "               precision    recall  f1-score   support\n",
      "\n",
      "     hogweed       0.77      0.96      0.85       506\n",
      "    blueweed       0.96      0.89      0.92       523\n",
      "       gorse       0.98      0.84      0.91       603\n",
      "\n",
      "    accuracy                           0.89      1632\n",
      "   macro avg       0.91      0.90      0.89      1632\n",
      "weighted avg       0.91      0.89      0.90      1632\n",
      "\n"
     ]
    }
   ],
   "source": [
    "# Displaying the classification report for the test set\n",
    "print('Classification Report\\n \\n', classification_report(test_true, test_predictions, target_names=categories))"
   ]
  },
  {
   "cell_type": "markdown",
   "metadata": {},
   "source": [
    "Precision and recall are quite high for both blueweed and gorse, but hogweed has a substantially lower precision than expected or desired. Based on the Confusion matrix below, it appears that some blueweed and gorse images are being classified as hogweed. I have a suspicion these are some of the images which contain clusters of plants instead of a single specimen.\n",
    "I'll want to consider that further and investigate."
   ]
  },
  {
   "cell_type": "code",
   "execution_count": 31,
   "metadata": {},
   "outputs": [
    {
     "data": {
      "image/png": "[encoded data removed]",
      "text/plain": [
       "<Figure size 432x288 with 2 Axes>"
      ]
     },
     "metadata": {
      "needs_background": "light"
     },
     "output_type": "display_data"
    }
   ],
   "source": [
    "# Get a confusion matrix \n",
    "test_matrix = pd.DataFrame(confusion_matrix(test_true, test_predictions), \n",
    "                           columns=['Predicted ' + cat_name for cat_name in categories], \n",
    "                           index=['True ' + cat_name for cat_name in categories])\n",
    "\n",
    "# Plotting as a heatmap \n",
    "plt.figure()\n",
    "sns.heatmap(test_matrix, cmap='Blues', annot=True, fmt='g')\n",
    "plt.title('Normalized Confusion Matrix: Test Data')\n",
    "plt.show()"
   ]
  },
  {
   "cell_type": "code",
   "execution_count": 32,
   "metadata": {},
   "outputs": [
    {
     "data": {
      "text/plain": [
       "array([[9.7578704e-01, 4.7428221e-03, 1.9470172e-02],\n",
       "       [9.2859000e-01, 5.9232030e-02, 1.2177986e-02],\n",
       "       [9.6747780e-01, 1.2591144e-02, 1.9930985e-02],\n",
       "       ...,\n",
       "       [1.3476094e-02, 2.2057923e-04, 9.8630327e-01],\n",
       "       [1.6494714e-06, 4.8179345e-09, 9.9999833e-01],\n",
       "       [9.5186132e-01, 1.2297129e-02, 3.5841502e-02]], dtype=float32)"
      ]
     },
     "execution_count": 32,
     "metadata": {},
     "output_type": "execute_result"
    }
   ],
   "source": [
    "test_probas"
   ]
  },
  {
   "cell_type": "code",
   "execution_count": 33,
   "metadata": {},
   "outputs": [
    {
     "data": {
      "text/plain": [
       "array([0, 0, 0, ..., 2, 2, 0])"
      ]
     },
     "execution_count": 33,
     "metadata": {},
     "output_type": "execute_result"
    }
   ],
   "source": [
    "test_predictions"
   ]
  },
  {
   "cell_type": "markdown",
   "metadata": {},
   "source": [
    "### Save Model to file\n",
    "* Weights and Model architecture in a single HDF5 file."
   ]
  },
  {
   "cell_type": "code",
   "execution_count": 37,
   "metadata": {},
   "outputs": [],
   "source": [
    "model.save('KerasModel2.h5')"
   ]
  },
  {
   "cell_type": "code",
   "execution_count": null,
   "metadata": {},
   "outputs": [],
   "source": []
  },
  {
   "cell_type": "code",
   "execution_count": null,
   "metadata": {},
   "outputs": [],
   "source": []
  },
  {
   "cell_type": "code",
   "execution_count": null,
   "metadata": {},
   "outputs": [],
   "source": []
  },
  {
   "cell_type": "code",
   "execution_count": null,
   "metadata": {},
   "outputs": [],
   "source": []
  },
  {
   "cell_type": "markdown",
   "metadata": {},
   "source": [
    "### Saving the model in two files\n",
    "* Weights in an hdf5 file\n",
    "* Model architecture in a json"
   ]
  },
  {
   "cell_type": "code",
   "execution_count": 34,
   "metadata": {},
   "outputs": [],
   "source": [
    "# # Serialize model to json file model.json\n",
    "# model_json = model.to_json()\n",
    "# with open('model.json', 'w') as json_file:\n",
    "#     json_file.write('model_json')\n",
    "    "
   ]
  },
  {
   "cell_type": "code",
   "execution_count": 35,
   "metadata": {},
   "outputs": [
    {
     "name": "stdout",
     "output_type": "stream",
     "text": [
      "Model save to file complete.\n"
     ]
    }
   ],
   "source": [
    "# # Serialize weights to HDF5 format model_weights.h5\n",
    "# model.save_weights('model_weights.h5')\n",
    "# print('Model save to file complete.')"
   ]
  },
  {
   "cell_type": "code",
   "execution_count": null,
   "metadata": {},
   "outputs": [],
   "source": []
  },
  {
   "cell_type": "code",
   "execution_count": null,
   "metadata": {},
   "outputs": [],
   "source": []
  }
 ],
 "metadata": {
  "kernelspec": {
   "display_name": "deeplearning",
   "language": "python",
   "name": "deeplearning"
  },
  "language_info": {
   "codemirror_mode": {
    "name": "ipython",
    "version": 3
   },
   "file_extension": ".py",
   "mimetype": "text/x-python",
   "name": "python",
   "nbconvert_exporter": "python",
   "pygments_lexer": "ipython3",
   "version": "3.8.2"
  }
 },
 "nbformat": 4,
 "nbformat_minor": 4
}
