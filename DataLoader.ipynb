{
 "cells": [
  {
   "cell_type": "markdown",
   "metadata": {},
   "source": [
    "## Image File Handling Prep\n",
    "Handels two inputs a labels spreadsheet which includes the filelist and class label of the image set and a matching directory images.\n",
    "Output is to move the images into a directory tree of -> class_x/train/ and class_x/test/ based on the class label."
   ]
  },
  {
   "cell_type": "code",
   "execution_count": 53,
   "metadata": {},
   "outputs": [],
   "source": [
    "# Standard Dsci and data wrangling packages\n",
    "import numpy as np\n",
    "import pandas as pd\n",
    "\n",
    "# I/O handling packages\n",
    "import os\n",
    "import shutil\n",
    "import pickle\n",
    "\n",
    "# For splitting the files into train and test directories\n",
    "# based on labels.csv.\n",
    "from sklearn.model_selection import train_test_split\n",
    "\n",
    "# Don't need the packages below as I'll manage the data \n",
    "# set creation in the Keras_TFlow_Model file.\n",
    "\n",
    "#import random\n",
    "# import cv2"
   ]
  },
  {
   "cell_type": "code",
   "execution_count": 39,
   "metadata": {},
   "outputs": [],
   "source": [
    "# Image dataset info is included in the labels.csv file\n",
    "\n",
    "deep_df = pd.read_csv('~/python-repo/DeepWeeds_Dataset/Data/labels.csv')"
   ]
  },
  {
   "cell_type": "code",
   "execution_count": 40,
   "metadata": {},
   "outputs": [
    {
     "name": "stdout",
     "output_type": "stream",
     "text": [
      "<class 'pandas.core.frame.DataFrame'>\n",
      "RangeIndex: 17509 entries, 0 to 17508\n",
      "Data columns (total 3 columns):\n",
      " #   Column    Non-Null Count  Dtype \n",
      "---  ------    --------------  ----- \n",
      " 0   Filename  17509 non-null  object\n",
      " 1   Label     17509 non-null  int64 \n",
      " 2   Species   17509 non-null  object\n",
      "dtypes: int64(1), object(2)\n",
      "memory usage: 410.5+ KB\n"
     ]
    }
   ],
   "source": [
    "deep_df.info()"
   ]
  },
  {
   "cell_type": "code",
   "execution_count": 41,
   "metadata": {},
   "outputs": [
    {
     "data": {
      "text/html": [
       "<div>\n",
       "<style scoped>\n",
       "    .dataframe tbody tr th:only-of-type {\n",
       "        vertical-align: middle;\n",
       "    }\n",
       "\n",
       "    .dataframe tbody tr th {\n",
       "        vertical-align: top;\n",
       "    }\n",
       "\n",
       "    .dataframe thead th {\n",
       "        text-align: right;\n",
       "    }\n",
       "</style>\n",
       "<table border=\"1\" class=\"dataframe\">\n",
       "  <thead>\n",
       "    <tr style=\"text-align: right;\">\n",
       "      <th></th>\n",
       "      <th>Filename</th>\n",
       "      <th>Label</th>\n",
       "      <th>Species</th>\n",
       "    </tr>\n",
       "  </thead>\n",
       "  <tbody>\n",
       "    <tr>\n",
       "      <th>0</th>\n",
       "      <td>20160928-140314-0.jpg</td>\n",
       "      <td>0</td>\n",
       "      <td>Chinee apple</td>\n",
       "    </tr>\n",
       "    <tr>\n",
       "      <th>1</th>\n",
       "      <td>20160928-140337-0.jpg</td>\n",
       "      <td>0</td>\n",
       "      <td>Chinee apple</td>\n",
       "    </tr>\n",
       "    <tr>\n",
       "      <th>2</th>\n",
       "      <td>20160928-140731-0.jpg</td>\n",
       "      <td>0</td>\n",
       "      <td>Chinee apple</td>\n",
       "    </tr>\n",
       "    <tr>\n",
       "      <th>3</th>\n",
       "      <td>20160928-140747-0.jpg</td>\n",
       "      <td>0</td>\n",
       "      <td>Chinee apple</td>\n",
       "    </tr>\n",
       "    <tr>\n",
       "      <th>4</th>\n",
       "      <td>20160928-141107-0.jpg</td>\n",
       "      <td>0</td>\n",
       "      <td>Chinee apple</td>\n",
       "    </tr>\n",
       "  </tbody>\n",
       "</table>\n",
       "</div>"
      ],
      "text/plain": [
       "                Filename  Label       Species\n",
       "0  20160928-140314-0.jpg      0  Chinee apple\n",
       "1  20160928-140337-0.jpg      0  Chinee apple\n",
       "2  20160928-140731-0.jpg      0  Chinee apple\n",
       "3  20160928-140747-0.jpg      0  Chinee apple\n",
       "4  20160928-141107-0.jpg      0  Chinee apple"
      ]
     },
     "execution_count": 41,
     "metadata": {},
     "output_type": "execute_result"
    }
   ],
   "source": [
    "deep_df.head()"
   ]
  },
  {
   "cell_type": "code",
   "execution_count": 42,
   "metadata": {},
   "outputs": [
    {
     "data": {
      "text/plain": [
       "array([0, 1, 8, 7, 6, 4, 3, 5, 2])"
      ]
     },
     "execution_count": 42,
     "metadata": {},
     "output_type": "execute_result"
    }
   ],
   "source": [
    "# Check number of classes\n",
    "deep_df['Label'].unique()"
   ]
  },
  {
   "cell_type": "code",
   "execution_count": 43,
   "metadata": {},
   "outputs": [],
   "source": [
    "# Create dictionary of class directories from the label numbers.\n",
    "label_dict = {0 : 'class_0', 1 : 'class_1', 2 : 'class_2', \n",
    "              3 : 'class_3', 4 : 'class_4', 5 : 'class_5',\n",
    "              6 : 'class_6', 7 : 'class_7', 8 : 'class_8'}"
   ]
  },
  {
   "cell_type": "code",
   "execution_count": 44,
   "metadata": {},
   "outputs": [],
   "source": [
    "# split the df into two using test_train_split, no stratification\n",
    "train, test = train_test_split(deep_df, test_size=0.2, random_state=123)"
   ]
  },
  {
   "cell_type": "code",
   "execution_count": 45,
   "metadata": {},
   "outputs": [
    {
     "data": {
      "text/plain": [
       "(14007, 3)"
      ]
     },
     "execution_count": 45,
     "metadata": {},
     "output_type": "execute_result"
    }
   ],
   "source": [
    "train.shape"
   ]
  },
  {
   "cell_type": "code",
   "execution_count": 46,
   "metadata": {},
   "outputs": [
    {
     "data": {
      "text/plain": [
       "(3502, 3)"
      ]
     },
     "execution_count": 46,
     "metadata": {},
     "output_type": "execute_result"
    }
   ],
   "source": [
    "test.shape"
   ]
  },
  {
   "cell_type": "code",
   "execution_count": 47,
   "metadata": {},
   "outputs": [
    {
     "data": {
      "text/html": [
       "<div>\n",
       "<style scoped>\n",
       "    .dataframe tbody tr th:only-of-type {\n",
       "        vertical-align: middle;\n",
       "    }\n",
       "\n",
       "    .dataframe tbody tr th {\n",
       "        vertical-align: top;\n",
       "    }\n",
       "\n",
       "    .dataframe thead th {\n",
       "        text-align: right;\n",
       "    }\n",
       "</style>\n",
       "<table border=\"1\" class=\"dataframe\">\n",
       "  <thead>\n",
       "    <tr style=\"text-align: right;\">\n",
       "      <th></th>\n",
       "      <th>Filename</th>\n",
       "      <th>Label</th>\n",
       "      <th>Species</th>\n",
       "    </tr>\n",
       "  </thead>\n",
       "  <tbody>\n",
       "    <tr>\n",
       "      <th>820</th>\n",
       "      <td>20170210-142607-0.jpg</td>\n",
       "      <td>7</td>\n",
       "      <td>Snake weed</td>\n",
       "    </tr>\n",
       "    <tr>\n",
       "      <th>10592</th>\n",
       "      <td>20171219-110049-3.jpg</td>\n",
       "      <td>8</td>\n",
       "      <td>Negative</td>\n",
       "    </tr>\n",
       "    <tr>\n",
       "      <th>10757</th>\n",
       "      <td>20171219-113609-2.jpg</td>\n",
       "      <td>8</td>\n",
       "      <td>Negative</td>\n",
       "    </tr>\n",
       "    <tr>\n",
       "      <th>5300</th>\n",
       "      <td>20170920-100739-1.jpg</td>\n",
       "      <td>2</td>\n",
       "      <td>Parkinsonia</td>\n",
       "    </tr>\n",
       "    <tr>\n",
       "      <th>1357</th>\n",
       "      <td>20170315-085825-0.jpg</td>\n",
       "      <td>8</td>\n",
       "      <td>Negative</td>\n",
       "    </tr>\n",
       "  </tbody>\n",
       "</table>\n",
       "</div>"
      ],
      "text/plain": [
       "                    Filename  Label      Species\n",
       "820    20170210-142607-0.jpg      7   Snake weed\n",
       "10592  20171219-110049-3.jpg      8     Negative\n",
       "10757  20171219-113609-2.jpg      8     Negative\n",
       "5300   20170920-100739-1.jpg      2  Parkinsonia\n",
       "1357   20170315-085825-0.jpg      8     Negative"
      ]
     },
     "execution_count": 47,
     "metadata": {},
     "output_type": "execute_result"
    }
   ],
   "source": [
    "train.head()"
   ]
  },
  {
   "cell_type": "code",
   "execution_count": 48,
   "metadata": {},
   "outputs": [
    {
     "data": {
      "text/html": [
       "<div>\n",
       "<style scoped>\n",
       "    .dataframe tbody tr th:only-of-type {\n",
       "        vertical-align: middle;\n",
       "    }\n",
       "\n",
       "    .dataframe tbody tr th {\n",
       "        vertical-align: top;\n",
       "    }\n",
       "\n",
       "    .dataframe thead th {\n",
       "        text-align: right;\n",
       "    }\n",
       "</style>\n",
       "<table border=\"1\" class=\"dataframe\">\n",
       "  <thead>\n",
       "    <tr style=\"text-align: right;\">\n",
       "      <th></th>\n",
       "      <th>Filename</th>\n",
       "      <th>Label</th>\n",
       "      <th>Species</th>\n",
       "    </tr>\n",
       "  </thead>\n",
       "  <tbody>\n",
       "    <tr>\n",
       "      <th>11509</th>\n",
       "      <td>20171220-095434-1.jpg</td>\n",
       "      <td>8</td>\n",
       "      <td>Negative</td>\n",
       "    </tr>\n",
       "    <tr>\n",
       "      <th>7207</th>\n",
       "      <td>20171109-090410-3.jpg</td>\n",
       "      <td>5</td>\n",
       "      <td>Rubber vine</td>\n",
       "    </tr>\n",
       "    <tr>\n",
       "      <th>1071</th>\n",
       "      <td>20170217-115719-0.jpg</td>\n",
       "      <td>0</td>\n",
       "      <td>Chinee apple</td>\n",
       "    </tr>\n",
       "    <tr>\n",
       "      <th>203</th>\n",
       "      <td>20170127-102206-0.jpg</td>\n",
       "      <td>1</td>\n",
       "      <td>Lantana</td>\n",
       "    </tr>\n",
       "    <tr>\n",
       "      <th>6584</th>\n",
       "      <td>20171102-100741-2.jpg</td>\n",
       "      <td>4</td>\n",
       "      <td>Prickly acacia</td>\n",
       "    </tr>\n",
       "  </tbody>\n",
       "</table>\n",
       "</div>"
      ],
      "text/plain": [
       "                    Filename  Label         Species\n",
       "11509  20171220-095434-1.jpg      8        Negative\n",
       "7207   20171109-090410-3.jpg      5     Rubber vine\n",
       "1071   20170217-115719-0.jpg      0    Chinee apple\n",
       "203    20170127-102206-0.jpg      1         Lantana\n",
       "6584   20171102-100741-2.jpg      4  Prickly acacia"
      ]
     },
     "execution_count": 48,
     "metadata": {},
     "output_type": "execute_result"
    }
   ],
   "source": [
    "test.head()"
   ]
  },
  {
   "cell_type": "code",
   "execution_count": 56,
   "metadata": {},
   "outputs": [
    {
     "data": {
      "text/plain": [
       "Filename    7287\n",
       "Label       7287\n",
       "Species     7287\n",
       "dtype: int64"
      ]
     },
     "execution_count": 56,
     "metadata": {},
     "output_type": "execute_result"
    }
   ],
   "source": [
    "# Count of class_* the negative class\n",
    "train[train['Label']==8].count()"
   ]
  },
  {
   "cell_type": "code",
   "execution_count": 57,
   "metadata": {},
   "outputs": [
    {
     "data": {
      "text/plain": [
       "0.52023988005997"
      ]
     },
     "execution_count": 57,
     "metadata": {},
     "output_type": "execute_result"
    }
   ],
   "source": [
    "# Calculate % of df.\n",
    "7287/14007"
   ]
  },
  {
   "cell_type": "code",
   "execution_count": 58,
   "metadata": {},
   "outputs": [
    {
     "data": {
      "text/plain": [
       "Filename    1819\n",
       "Label       1819\n",
       "Species     1819\n",
       "dtype: int64"
      ]
     },
     "execution_count": 58,
     "metadata": {},
     "output_type": "execute_result"
    }
   ],
   "source": [
    "# Count of class_8 the negative class\n",
    "test[test['Label']==8].count()"
   ]
  },
  {
   "cell_type": "code",
   "execution_count": 59,
   "metadata": {},
   "outputs": [
    {
     "data": {
      "text/plain": [
       "0.5194174757281553"
      ]
     },
     "execution_count": 59,
     "metadata": {},
     "output_type": "execute_result"
    }
   ],
   "source": [
    "# Calculate % of df.\n",
    "1819/3502"
   ]
  },
  {
   "cell_type": "markdown",
   "metadata": {},
   "source": [
    "We've maintained 50% negative class in both test and train after our train test split. We're ready to move the images!\n"
   ]
  },
  {
   "cell_type": "code",
   "execution_count": 49,
   "metadata": {},
   "outputs": [],
   "source": [
    "# Reindex train df \n",
    "train = train.copy()\n",
    "train.sort_index(ignore_index=True, inplace=True)"
   ]
  },
  {
   "cell_type": "code",
   "execution_count": 50,
   "metadata": {},
   "outputs": [],
   "source": [
    "# Reindex test df\n",
    "test = test.copy()\n",
    "test.sort_index(ignore_index=True, inplace=True)"
   ]
  },
  {
   "cell_type": "code",
   "execution_count": 54,
   "metadata": {},
   "outputs": [],
   "source": [
    "# Save the train and test df's in case of need to \n",
    "# reference which images are in which folders.\n",
    "\n",
    "pickle_out = open('train_labels.pickle', 'wb')\n",
    "pickle.dump(train, pickle_out)\n",
    "pickle_out.close()\n",
    "\n",
    "pickle_out = open('test_labels.pickle', 'wb')\n",
    "pickle.dump(test, pickle_out)\n",
    "pickle_out.close()"
   ]
  },
  {
   "cell_type": "code",
   "execution_count": 52,
   "metadata": {},
   "outputs": [],
   "source": [
    "# Loop over the dataframe and move images into the appropriate class directory.\n",
    "# This runs once on an image collection to put all of the images in their class directories.\n",
    "\n",
    "for row in range(len(train)):\n",
    "    image_name = train.loc[row, 'Filename']\n",
    "    new_path_dir = label_dict[train.loc[row, 'Label']]\n",
    "    shutil.move(f'/home/ksawczuk/python-repo/DeepWeeds_Dataset/Data/{image_name}',\n",
    "                f'/home/ksawczuk/python-repo/DeepWeeds_Dataset/Data/{new_path_dir}/train')\n",
    "    \n",
    "for row in range(len(test)):\n",
    "    image_name = test.loc[row, 'Filename']\n",
    "    new_path_dir = label_dict[test.loc[row, 'Label']]\n",
    "    shutil.move(f'/home/ksawczuk/python-repo/DeepWeeds_Dataset/Data/{image_name}',\n",
    "               f'/home/ksawczuk/python-repo/DeepWeeds_Dataset/Data/{new_path_dir}/test')\n"
   ]
  },
  {
   "cell_type": "markdown",
   "metadata": {},
   "source": [
    "# Stop Here!\n",
    "Everything below this cell isn't needed if the model file utilizes the Keras ImageDataGenerator."
   ]
  },
  {
   "cell_type": "code",
   "execution_count": 10,
   "metadata": {},
   "outputs": [],
   "source": [
    "# data_dir = '/home/ksawczuk/python-repo/DeepWeeds_Dataset/Data'\n",
    "\n",
    "# categories = ['class_0', 'class_1', 'class_2', \n",
    "#               'class_3', 'class_4', 'class_5', \n",
    "#               'class_6', 'class_7', 'class_8']\n",
    "# img_size = 28\n",
    "\n",
    "# for category in categories:\n",
    "#     path = os.path.join(data_dir, category)\n",
    "#     for img in os.listdir(path):\n",
    "#         img_array = cv2.imread(os.path.join(path, img), cv2.IMREAD_COLOR)"
   ]
  },
  {
   "cell_type": "code",
   "execution_count": 11,
   "metadata": {},
   "outputs": [],
   "source": [
    "# training_data = []\n",
    "# def create_training_data():\n",
    "#     for i, category in enumerate(categories):\n",
    "#         path = os.path.join(data_dir, category)\n",
    "#         class_num = categories.index(category)\n",
    "#         for img in os.listdir(path):\n",
    "#             img_array = cv2.imread(os.path.join(path, img), cv2.IMREAD_COLOR)\n",
    "#             new_array = cv2.resize(img_array, (img_size, img_size))\n",
    "#             training_data.append([new_array, class_num])\n"
   ]
  },
  {
   "cell_type": "code",
   "execution_count": 12,
   "metadata": {},
   "outputs": [],
   "source": [
    "# create_training_data()"
   ]
  },
  {
   "cell_type": "code",
   "execution_count": 13,
   "metadata": {},
   "outputs": [
    {
     "data": {
      "text/plain": [
       "17509"
      ]
     },
     "execution_count": 13,
     "metadata": {},
     "output_type": "execute_result"
    }
   ],
   "source": [
    "# len(training_data)"
   ]
  },
  {
   "cell_type": "code",
   "execution_count": 15,
   "metadata": {},
   "outputs": [],
   "source": [
    "# random.shuffle(training_data)"
   ]
  },
  {
   "cell_type": "code",
   "execution_count": 16,
   "metadata": {},
   "outputs": [],
   "source": [
    "# X = []\n",
    "# y = []\n",
    "# for features, label_data in training_data:\n",
    "#     X.append(features)\n",
    "#     y.append(label_data)\n",
    "    "
   ]
  },
  {
   "cell_type": "code",
   "execution_count": 17,
   "metadata": {},
   "outputs": [],
   "source": [
    "# X = np.array(X).reshape(-1, img_size, img_size, 3)"
   ]
  },
  {
   "cell_type": "code",
   "execution_count": 20,
   "metadata": {},
   "outputs": [],
   "source": [
    "# y = np.array(y)"
   ]
  },
  {
   "cell_type": "code",
   "execution_count": 21,
   "metadata": {},
   "outputs": [],
   "source": [
    "# pickle_out = open('X.pickle', 'wb')\n",
    "# pickle.dump(X, pickle_out)\n",
    "# pickle_out.close()\n",
    "\n",
    "# pickle_out = open('y.pickle', 'wb')\n",
    "# pickle.dump(y, pickle_out)\n",
    "# pickle_out.close()"
   ]
  }
 ],
 "metadata": {
  "kernelspec": {
   "display_name": "deeplearning",
   "language": "python",
   "name": "deeplearning"
  },
  "language_info": {
   "codemirror_mode": {
    "name": "ipython",
    "version": 3
   },
   "file_extension": ".py",
   "mimetype": "text/x-python",
   "name": "python",
   "nbconvert_exporter": "python",
   "pygments_lexer": "ipython3",
   "version": "3.8.2"
  }
 },
 "nbformat": 4,
 "nbformat_minor": 4
}
